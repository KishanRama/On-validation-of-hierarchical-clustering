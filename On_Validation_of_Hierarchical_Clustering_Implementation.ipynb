{
 "cells": [
  {
   "cell_type": "markdown",
   "metadata": {},
   "source": [
    "# On Validation of Hierarchical Clustering\n",
    "Implementation of the approached followed on this paper with an additional analysis of the Adjusted Wallace index between cutoffs on a dendrogram"
   ]
  },
  {
   "cell_type": "code",
   "execution_count": 1,
   "metadata": {
    "collapsed": true
   },
   "outputs": [],
   "source": [
    "#import libraries\n",
    "from matplotlib import pyplot as plt\n",
    "from scipy.cluster.hierarchy import dendrogram, linkage, fcluster\n",
    "from sklearn.metrics.cluster import adjusted_rand_score\n",
    "from statistics import mean, stdev\n",
    "from tabulate import tabulate\n",
    "import pandas as pd\n",
    "import numpy as np\n",
    "import math\n"
   ]
  },
  {
   "cell_type": "code",
   "execution_count": 2,
   "metadata": {
    "collapsed": true
   },
   "outputs": [],
   "source": [
    "#function that returns partitions given the cluster assignments to our N elements to cluster\n",
    "def cluster_indices(cluster_assignments,idx):\n",
    "    n = cluster_assignments.max()\n",
    "    clusters = []\n",
    "    for cluster_number in range(1, n + 1):\n",
    "        aux = np.where(cluster_assignments == cluster_number)[0].tolist()\n",
    "        cluster = list(idx[i] for i in aux )\n",
    "        clusters.append(cluster)\n",
    "    return clusters"
   ]
  },
  {
   "cell_type": "markdown",
   "metadata": {},
   "source": [
    "## 1. Clustering and contingency tables (from comparingpartitions.info)\n",
    "Let X be a set of N data points {x1, x2, x3, ..., xN}. Given two clusterings of X, namely A={A1, A2, A3, ..., AR} with R clusters and B={B1, B2, B3, ..., BC} with C clusters, the information on cluster overlap between A and B can be summarized in the form of a R×C contingency table (CT) as illustrated below:\n",
    "\n",
    "<img src=\"contingency_table.png\">\n",
    "\n",
    "where $n_{ij}$ denotes the number of elements that are common to clusters $A_i$ and $B_j$\n",
    "\n",
    "Focusing on the pairwise agreement, the information in the CT can be further condensed in a mismatch matrix:\n",
    "\n",
    "<img src=\"mismatch_matrix.png\">\n",
    "\n",
    "The entries of the mismatch matrix a,b,c,d can be calculated using the entires in the CT:\n",
    "\n",
    "$$a = \\frac{1}{2} \\sum_{i=1}^R \\sum_{j=1}^C n_{ij} (n_{ij} - 1)$$\n",
    "\n",
    "$$b = \\frac{1}{2} (\\sum_{i=1}^R n_{i \\bullet}^2 -\\sum_{i=1}^R \\sum_{j=1}^C n_{ij}^2 ) $$\n",
    "\n",
    "$$c = \\frac{1}{2} (\\sum_{j=1}^C n_{\\bullet j}^2 -\\sum_{i=1}^R \\sum_{j=1}^C n_{ij}^2 ) $$\n",
    "\n",
    "$$d = \\frac{1}{2} [N^2 + \\sum_{i=1}^R \\sum_{j=1}^C n_{ij}^2 - (\\sum_{i=1}^R n_{i \\bullet}^2 + \\sum_{j=1}^C n_{\\bullet j}^2) ] $$\n",
    "\n"
   ]
  },
  {
   "cell_type": "markdown",
   "metadata": {},
   "source": [
    "### 1.1 Rand Index\n",
    "$$rand\\_index = \\frac{a+d}{a+b+c+d} $$\n",
    "\n",
    "### 1.2 Adjusted Rand Index\n",
    "$$ ARI = \\frac{ \\sum_{i=1}^R \\sum_{j=1}^C {{n_{ij}}\\choose{2}} - [\\sum_{i=1}^R {{n_{i \\bullet}}\\choose{2}} \\sum_{j=1}^C {{ n_{\\bullet j}}\\choose{2}} ] / {{N}\\choose{2}} }{\\frac{1}{2} [\\sum_{i=1}^R {{n_{i \\bullet}}\\choose{2}} + \\sum_{j=1}^C {{ n_{\\bullet j}}\\choose{2}} ] - [\\sum_{i=1}^R {{n_{i \\bullet}}\\choose{2}} \\sum_{j=1}^C {{ n_{\\bullet j}}\\choose{2}} ] / {{N}\\choose{2}} } $$\n",
    "\n",
    "#### Numerator\n",
    "$$ \\sum_{i=1}^R \\sum_{j=1}^C {{n_{ij}}\\choose{2}} - \\big[\\sum_{i=1}^R {{n_{i \\bullet}}\\choose{2}} \\sum_{j=1}^C {{ n_{\\bullet j}}\\choose{2}} \\big] \\big/ {{N}\\choose{2}}  $$\n",
    "$$ = \\sum_{i=1}^R \\sum_{j=1}^C \\frac{n_{ij}!}{2(n_{ij}-2)!} - \\big[\\sum_{i=1}^R \\frac{n_{i\\bullet}!}{2(n_{i\\bullet}-2)!} \\sum_{j=1}^C \\frac{n_{\\bullet j}!}{2(n_{\\bullet j}-2)!} \\big] \\big/ \\frac{N!}{2(N-2)!}   $$\n",
    "$$ = \\frac{1}{2} \\sum_{i=1}^R \\sum_{j=1}^C n_{ij} (n_{ij} - 1) - \\big[\\sum_{i=1}^R \\frac{1}{2}n_{i\\bullet}(n_{i\\bullet} -1) \\sum_{j=1}^C \\frac{1}{2}n_{\\bullet j}(n_{\\bullet j} -1) \\big] \\frac{2}{N(N-1)}  $$\n",
    "$$ = a - \\frac{1}{2N(N-1)} \\big[ (\\sum_{i=1}^R n_{i \\bullet}^2 -\\sum_{i=1}^R n_{i \\bullet})(\\sum_{j=1}^C n_{\\bullet j}^2 - \\sum_{j=1}^C n_{\\bullet j}) \\big] $$\n",
    "$$ = a - n_c $$\n",
    "\n",
    "#### Denominator\n",
    "$$ \\frac{1}{2} \\big[\\sum_{i=1}^R {{n_{i \\bullet}}\\choose{2}} + \\sum_{j=1}^C {{ n_{\\bullet j}}\\choose{2}} \\big] - \\big[\\sum_{i=1}^R {{n_{i \\bullet}}\\choose{2}} \\sum_{j=1}^C {{ n_{\\bullet j}}\\choose{2}} \\big] / {{N}\\choose{2}} $$\n",
    "$$ = \\frac{1}{2} \\big[ \\frac{1}{2}(\\sum_{i=1}^R n_{i \\bullet}^2 -\\sum_{i=1}^R n_{i \\bullet}) + \\frac{1}{2}(\\sum_{j=1}^C n_{\\bullet j}^2 - \\sum_{j=1}^C n_{\\bullet j}) \\big] - n_c $$\n",
    "$$ = \\frac{1}{4} \\big[ \\sum_{i=1}^R n_{i \\bullet}^2 -\\sum_{i=1}^R n_{i \\bullet} + \\sum_{j=1}^C n_{\\bullet j}^2 - \\sum_{j=1}^C n_{\\bullet j} \\big] - n_c $$\n",
    "\n",
    "hence the Adjusted Rand Index can be rewritten as:\n",
    "\n",
    "$$ ARI = \\frac{a-n_c}{n_d - n_c} $$\n",
    "\n",
    "where\n",
    "\n",
    "$$ n_c = \\frac{1}{2N(N-1)} \\big[ (\\sum_{i=1}^R n_{i \\bullet}^2 -\\sum_{i=1}^R n_{i \\bullet})(\\sum_{j=1}^C n_{\\bullet j}^2 - \\sum_{j=1}^C n_{\\bullet j}) \\big] $$\n",
    "$$ n_d = \\frac{1}{4} \\big[ \\sum_{i=1}^R n_{i \\bullet}^2 -\\sum_{i=1}^R n_{i \\bullet} + \\sum_{j=1}^C n_{\\bullet j}^2 - \\sum_{j=1}^C n_{\\bullet j} \\big] $$\n",
    "\n",
    "### 1.3 Fowlkes and Mallows Index\n",
    "$$ FM = \\frac{a}{\\sqrt{(a+b)(a+c)}} $$\n",
    "\n",
    "### 1.4 Jaccard Index\n",
    "$$ Jaccard = \\frac{a}{a+b+c} $$\n",
    "\n",
    "### 1.5 Wallace's coefficient\n",
    "\n",
    "$$ W_{A -> B} = \\frac{a}{a+b} $$ \n",
    "\n",
    "$$  W_{B -> A} = \\frac{a}{a+c} $$\n",
    "\n",
    "### Adjusted Wallace\n",
    "\n",
    "$$ AW_{A->B} = \\frac{W_{A->B} - W_{i(A->B)}}{1 - W_{i(A->B)} } $$\n",
    "\n",
    "where\n",
    "\n",
    "$$  W_{i(A->B)} = 1 -SID_B $$\n",
    "$$ SID_B = 1 - \\frac{1}{N(N-1)} \\sum_{j=1}^C n_{\\bullet j} (n_{\\bullet j} -1 ) $$\n",
    "\n"
   ]
  },
  {
   "cell_type": "code",
   "execution_count": 3,
   "metadata": {
    "collapsed": true
   },
   "outputs": [],
   "source": [
    "def cluster_external_index(partition_a, partition_b):\n",
    "    #size of contigency table\n",
    "    R = len(partition_a)\n",
    "    C = len(partition_b)\n",
    "    #contigency table\n",
    "    ct = np.zeros((R+1,C+1))\n",
    "    #fill the contigency table\n",
    "    for i in range(0,R+1):\n",
    "        for j in range(0,C):\n",
    "            if(i in range(0,R)):  \n",
    "                n_common_elements = len(set(partition_a[i]).intersection(partition_b[j]))\n",
    "                ct[i][j] = n_common_elements\n",
    "            else:\n",
    "                ct[i][j] = ct[:,j].sum()\n",
    "                      \n",
    "        ct[i][j+1] = ct[i].sum()  \n",
    "    \n",
    "    N = ct[R][C]\n",
    "    #condensed information of ct into a mismatch matrix (pairwise agreement)\n",
    "    sum_all_squared = np.sum(ct[0:R][:,range(0,C)]**2)   \n",
    "    sum_R_squared = np.sum(ct[0:R,C]**2)\n",
    "    sum_R = np.sum(ct[0:R,C])\n",
    "    sum_C_squared = np.sum(ct[R,0:C]**2)\n",
    "    sum_C = np.sum(ct[R,0:C])\n",
    "    #computing the number of pairs that are in the same cluster both in partition A and partition B\n",
    "    a = 0\n",
    "    for i in range(0,R):\n",
    "        for j in range(0,C):\n",
    "            a = a + ct[i][j]*(ct[i][j]-1)\n",
    "    a = a/2\n",
    "    #computing the number of pair in the same cluster in partition A but in different cluster in partition B\n",
    "    b = (sum_R_squared- sum_all_squared)/2\n",
    "    #computing the number of pair in different cluster in partition A but in the same cluster in partition B\n",
    "    c = (sum_C_squared - sum_all_squared)/2\n",
    "    #computing the number of pairs in different cluster both in partition A and partition B\n",
    "    d = (N**2 + sum_all_squared - (sum_R_squared + sum_C_squared))/2\n",
    "    \n",
    "    #exception for single clusters \n",
    "    if(int(a) == 0 and int(b) == 0 and int(c) == 0):\n",
    "        rand_index = 1\n",
    "        adjusted_rand_index = 1\n",
    "        FM = 0\n",
    "        jaccard = 1\n",
    "        adjusted_wallace = 1\n",
    "    else:     \n",
    "        rand_index = (a+d)/(a+b+c+d)\n",
    "        \n",
    "        #Adjusted Rand Index\n",
    "        nc = ((sum_R_squared - sum_R)*(sum_C_squared -sum_C))/(2*N*(N-1))\n",
    "        nd = (sum_R_squared - sum_R + sum_C_squared - sum_C)/4\n",
    "        #exception for one big cluster\n",
    "        if(nd == nc):\n",
    "            adjusted_rand_index = 1\n",
    "        else:  \n",
    "            adjusted_rand_index = (a-nc)/(nd - nc)\n",
    "        \n",
    "        if((a+b)==0 or (a+c) == 0):\n",
    "            FM = 0\n",
    "        else:\n",
    "            #Fowlks and Mallows\n",
    "            FM = math.sqrt((a/(a+b))*(a/(a+c)))\n",
    "        \n",
    "        #Jaccard\n",
    "        jaccard = a/(a+b+c)\n",
    "        \n",
    "        #Adjusted Wallace\n",
    "        SID_B = 1-((sum_C_squared-sum_C)/(N*(N-1)))\n",
    "        wallace = a/(a+b)\n",
    "        #exception for one big cluster\n",
    "        if(SID_B == 0):\n",
    "            adjusted_wallace = 1\n",
    "        else:\n",
    "            adjusted_wallace = (wallace-(1-SID_B))/(1-(1-SID_B))\n",
    "    \n",
    "    return [rand_index, adjusted_rand_index, FM, jaccard, adjusted_wallace]"
   ]
  },
  {
   "cell_type": "markdown",
   "metadata": {},
   "source": [
    "## 2. Cluster Validation - Measure of correspondence between a cluster $\\alpha$ and a cluster $\\beta$\n",
    "\n",
    "### 2.1 Jaccard Coefficient\n",
    "$$ \\tau(\\alpha, \\beta) = \\frac{|\\alpha \\cap \\beta|}{|\\alpha \\cup \\beta|} $$\n",
    "\n",
    "### 2.2 The symmetric Dice coefficient\n",
    "$$ \\eta(\\alpha, \\beta) = \\frac{|\\alpha \\cap \\beta|}{|\\alpha| + |\\beta|} $$\n",
    "\n",
    "### 2.3 The asymmetric coefficient\n",
    "$$ \\eta(\\alpha, \\beta) = \\frac{|\\alpha \\cap \\beta|}{|\\alpha|} $$"
   ]
  },
  {
   "cell_type": "code",
   "execution_count": 4,
   "metadata": {
    "collapsed": true
   },
   "outputs": [],
   "source": [
    "#function to compute cluster validation indexes\n",
    "def cluster_validation_indexes(cluster_a,cluster_b):\n",
    "    #jaccard index\n",
    "    num_jaccard = len(set(cluster_a).intersection(cluster_b))\n",
    "    den_jaccard = len(set(cluster_a).union(cluster_b))\n",
    "    jaccard = num_jaccard/den_jaccard\n",
    "    \n",
    "    #the symmetric Dice coefficient\n",
    "    dice = num_jaccard/len(cluster_a)\n",
    "    \n",
    "    #the asymmetric measure gama\n",
    "    gama = num_jaccard/(len(cluster_a)+len(cluster_b))\n",
    "    \n",
    "    return [jaccard, dice, gama]\n"
   ]
  },
  {
   "cell_type": "markdown",
   "metadata": {},
   "source": [
    "## 3. Method\n",
    "First the toy data \"Wine\" is loaded and a transformation into ranks is performed as a preprocessing step. Then hierarchical clustering using Ward's distance is used on the previous data matrix. Now an analysis of the optimal number of clusters in hierarchical clustering and a validation of the obtained clusters is done. Lastly an additional method is used to analyse the number of clusters that consists on computing the adjusted wallace index between cutoffs on the dendrogram."
   ]
  },
  {
   "cell_type": "code",
   "execution_count": 5,
   "metadata": {
    "collapsed": false
   },
   "outputs": [
    {
     "data": {
      "image/png": "[encoded data removed]",
      "text/plain": [
       "<matplotlib.figure.Figure at 0x2a87ee47da0>"
      ]
     },
     "metadata": {},
     "output_type": "display_data"
    }
   ],
   "source": [
    "# load data\n",
    "df = pd.read_table('wine.txt',sep = ',', header = None)\n",
    "\n",
    "# Preprocessing step - transformation into ranks\n",
    "df_ranks = df.loc[:,1:].rank(axis = 0,method = 'first')\n",
    "\n",
    "# generate the linkage matrix\n",
    "Z = linkage(df_ranks, 'ward')\n",
    "\n",
    "# dendrogram\n",
    "plt.figure(figsize=(25, 10))\n",
    "plt.title('Hierarchical Clustering Dendrogram')\n",
    "plt.xlabel('sample index')\n",
    "plt.ylabel('distance')\n",
    "dendrogram(\n",
    "        Z,\n",
    "        #truncate_mode = 'lastp',\n",
    "        #p=6,\n",
    "        leaf_rotation=90.,  # rotates the x axis labels\n",
    "        leaf_font_size=8.,  # font size for the x axis labels\n",
    "        )\n",
    "plt.show()"
   ]
  },
  {
   "cell_type": "markdown",
   "metadata": {},
   "source": [
    "### 3.1 How many clusters?"
   ]
  },
  {
   "cell_type": "code",
   "execution_count": 6,
   "metadata": {
    "collapsed": false
   },
   "outputs": [
    {
     "name": "stdout",
     "output_type": "stream",
     "text": [
      "  Number of clusters      Rand    Adjusted Rand    Fowlkes and Mallows    Jaccard\n",
      "--------------------  --------  ---------------  ---------------------  ---------\n",
      "                   2  0.733158         0.456886               0.763715   0.635464\n",
      "                   3  0.86016          0.688973               0.795172   0.663075\n",
      "                   4  0.85761          0.638732               0.736431   0.585655\n",
      "                   5  0.878848         0.656726               0.7356     0.584679\n",
      "                   6  0.879378         0.611079               0.686449   0.524782\n",
      "                   7  0.881219         0.576228               0.648264   0.482197\n",
      "                   8  0.893309         0.579083               0.642368   0.475485\n",
      "                   9  0.898893         0.576468               0.636057   0.468414\n"
     ]
    },
    {
     "data": {
      "image/png": "[encoded data removed]",
      "text/plain": [
       "<matplotlib.figure.Figure at 0x2a87f1c43c8>"
      ]
     },
     "metadata": {},
     "output_type": "display_data"
    }
   ],
   "source": [
    "# bootstrap method - sampling without replacement\n",
    "np.random.seed(123)\n",
    "\n",
    "#dictionary to store all computed indexes for each number of clusters K=2,...9\n",
    "dicio_statistics = {k:{} for k in range(2,10)}\n",
    "for k in range(2,10):\n",
    "    dicio_statistics[k]['rand'] = []\n",
    "    dicio_statistics[k]['adjusted'] = []\n",
    "    dicio_statistics[k]['FM'] = []\n",
    "    dicio_statistics[k]['jaccard'] = []\n",
    "\n",
    "# number of bootstrap samples\n",
    "M = 250\n",
    "\n",
    "#for each bootstrap sample\n",
    "for i in range(M):\n",
    "    # sampling rows of the original data\n",
    "    idx = np.random.choice(len(df_ranks), int((3/4)*len(df_ranks)), replace = False)\n",
    "    # Hierarchical Clustering of the bootstrap sample\n",
    "    Z_bootstrap = linkage(df_ranks.loc[idx,:],'ward')\n",
    "\n",
    "    #for each number of clusters k=2,...,9\n",
    "    for k in range(2,10):\n",
    "        c_assignments_original = fcluster(Z,k,criterion='maxclust')\n",
    "        c_assignments_bootstrap = fcluster(Z_bootstrap,k,criterion='maxclust')\n",
    "        #list of clusters for the clustering result with the original data\n",
    "        partition_original = cluster_indices(c_assignments_original,df.index.tolist())\n",
    "        #list of clusters for the clustering result with the bootstrap sample\n",
    "        partition_bootstrap = cluster_indices(c_assignments_bootstrap,idx)\n",
    "\n",
    "        #compute 4 different cluster external indexes between the partitions\n",
    "        computed_indexes = cluster_external_index(partition_original,partition_bootstrap)\n",
    "        dicio_statistics[k]['rand'].append(computed_indexes[0])\n",
    "        dicio_statistics[k]['adjusted'].append(computed_indexes[1])\n",
    "        dicio_statistics[k]['FM'].append(computed_indexes[2])\n",
    "        dicio_statistics[k]['jaccard'].append(computed_indexes[3])\n",
    "\n",
    "#obtain the average cluster external indexes for each number of clusters and show the results in a table\n",
    "rand_avg = []\n",
    "adjusted_avg = []\n",
    "FM_avg = []\n",
    "jaccard_avg = []\n",
    "table = []\n",
    "#obtain the standard deviation of adjusted rand index for each number of clusters\n",
    "adjusted_std = []\n",
    "\n",
    "for k in range(2,10):\n",
    "    rand_avg.append(mean(dicio_statistics[k]['rand']))\n",
    "    adjusted_avg.append(mean(dicio_statistics[k]['adjusted']))\n",
    "    FM_avg.append(mean(dicio_statistics[k]['FM']))\n",
    "    jaccard_avg.append(mean(dicio_statistics[k]['jaccard']))\n",
    "    table.append([k,mean(dicio_statistics[k]['rand']),mean(dicio_statistics[k]['adjusted']),mean(dicio_statistics[k]['FM']),mean(dicio_statistics[k]['jaccard'])])\n",
    "    adjusted_std.append(stdev(dicio_statistics[k]['adjusted']))\n",
    "    \n",
    "print(tabulate(table, headers=['Number of clusters', 'Rand','Adjusted Rand','Fowlkes and Mallows','Jaccard']))\n",
    "\n",
    "#bar chart\n",
    "width = 1/1.5\n",
    "plt.figure(1)\n",
    "plt.title('Standard Deviation of Adjusted Rand Index versus number of clusters')\n",
    "plt.bar(range(2,10), adjusted_std, width, color=\"blue\")\n",
    "plt.show()\n",
    "     "
   ]
  },
  {
   "cell_type": "code",
   "execution_count": 7,
   "metadata": {
    "collapsed": false
   },
   "outputs": [
    {
     "data": {
      "image/png": "[encoded data removed]",
      "text/plain": [
       "<matplotlib.figure.Figure at 0x2a87f197cc0>"
      ]
     },
     "execution_count": 7,
     "metadata": {},
     "output_type": "execute_result"
    }
   ],
   "source": [
    "########################\n",
    "#BOX PLOT\n",
    "########################\n",
    "data_to_plot = []\n",
    "for k in range(2,10):\n",
    "    data_to_plot.append(dicio_statistics[k]['adjusted'])\n",
    "\n",
    "# Create a figure instance\n",
    "plt.figure(2)\n",
    "fig = plt.figure(2, figsize=(9, 6))\n",
    "\n",
    "# Create an axes instance\n",
    "ax = fig.add_subplot(111)\n",
    "\n",
    "# Create the boxplot\n",
    "bp = ax.boxplot(data_to_plot)\n",
    "\n",
    "#Make it pretty\n",
    "## add patch_artist=True option to ax.boxplot() \n",
    "## to get fill color\n",
    "bp = ax.boxplot(data_to_plot, patch_artist=True)\n",
    "\n",
    "## change outline color, fill color and linewidth of the boxes\n",
    "for box in bp['boxes']:\n",
    "    # change outline color\n",
    "    box.set( color='#7570b3', linewidth=2)\n",
    "    # change fill color\n",
    "    box.set( facecolor = '#1b9e77' )\n",
    "\n",
    "## change color and linewidth of the whiskers\n",
    "for whisker in bp['whiskers']:\n",
    "    whisker.set(color='#7570b3', linewidth=2)\n",
    "\n",
    "## change color and linewidth of the caps\n",
    "for cap in bp['caps']:\n",
    "    cap.set(color='#7570b3', linewidth=2)\n",
    "\n",
    "## change color and linewidth of the medians\n",
    "for median in bp['medians']:\n",
    "    median.set(color='#b2df8a', linewidth=2)\n",
    "\n",
    "## change the style of fliers and their fill\n",
    "for flier in bp['fliers']:\n",
    "    flier.set(marker='o', color='#e7298a', alpha=0.5)\n",
    "\n",
    "fig.suptitle('Adjusted Rand Index versus number of clusters')\n",
    "## Custom x-axis labels\n",
    "ax.set_xticklabels(['2','3','4','5','6','7','8','9'])\n",
    "## Remove top axes and right axes ticks\n",
    "ax.get_xaxis().tick_bottom()\n",
    "ax.get_yaxis().tick_left()\n",
    "\n",
    "fig"
   ]
  },
  {
   "cell_type": "markdown",
   "metadata": {},
   "source": [
    "### 3.2 Cluster Validation\n",
    "After the analysis performed above we arrived at the conclusion that there are 3 clusters in the data. Now we are going to analyze the stability of those clusters"
   ]
  },
  {
   "cell_type": "code",
   "execution_count": 8,
   "metadata": {
    "collapsed": false
   },
   "outputs": [
    {
     "name": "stdout",
     "output_type": "stream",
     "text": [
      "Cluster Number       J_avg     D_avg     A_avg      J_std      D_std      A_std\n",
      "----------------  --------  --------  --------  ---------  ---------  ---------\n",
      "1(58)             0.602704  0.662966  0.375256  0.0574578  0.0632774  0.0223887\n",
      "2(45)             0.70138   0.7448    0.411166  0.072685   0.0604483  0.0253159\n",
      "3(75)             0.590302  0.629173  0.370164  0.064391   0.067788   0.0254523\n"
     ]
    }
   ],
   "source": [
    "#dictionary to store all computed indexes for each cluster\n",
    "dicio_cluster_validation = {k:{} for k in range(1,4)}\n",
    "for k in range(1,4):\n",
    "    dicio_cluster_validation[k]['jaccard'] = []\n",
    "    dicio_cluster_validation[k]['dice'] = []\n",
    "    dicio_cluster_validation[k]['asymmetric'] = []\n",
    "\n",
    "c_assignments_original = fcluster(Z,3,criterion='maxclust')\n",
    "partition_original = cluster_indices(c_assignments_original,df.index.tolist())\n",
    "\n",
    "#assess cluster stability for K=3 that was the number of clusters chosen\n",
    "for i in range(M):\n",
    "    # sampling rows of the original data\n",
    "    idx = np.random.choice(len(df_ranks), int((3/4)*len(df_ranks)), replace = False)\n",
    "    # Hierarchical Clustering of the bootstrap sample\n",
    "    Z_bootstrap = linkage(df_ranks.loc[idx,:],'ward')\n",
    "\n",
    "    c_assignments_bootstrap = fcluster(Z_bootstrap,3,criterion='maxclust')\n",
    "    partition_bootstrap = cluster_indices(c_assignments_bootstrap,idx)\n",
    "\n",
    "    for k in range(0,3):\n",
    "        aux_jaccard = []\n",
    "        aux_dice = []\n",
    "        aux_asymmetric = []\n",
    "        for i in range(0,3):\n",
    "            aux = cluster_validation_indexes(partition_original[k],partition_bootstrap[i])\n",
    "            aux_jaccard.append(aux[0])\n",
    "            aux_dice.append(aux[1])\n",
    "            aux_asymmetric.append(aux[2])\n",
    "\n",
    "        dicio_cluster_validation[k+1]['jaccard'].append(max(aux_jaccard))\n",
    "        dicio_cluster_validation[k+1]['dice'].append(max(aux_dice))\n",
    "        dicio_cluster_validation[k+1]['asymmetric'].append(max(aux_asymmetric))\n",
    "\n",
    "#obtain the average and standard deviation of the cluster external indexes for each number of clusters\n",
    "jaccard_cluster_avg = []\n",
    "dice_avg = []\n",
    "asymmetric_avg = []\n",
    "jaccard_cluster_std = []\n",
    "dice_std = []\n",
    "asymmetric_std = []\n",
    "\n",
    "for k in range(1,4):\n",
    "    jaccard_cluster_avg.append(mean(dicio_cluster_validation[k]['jaccard']))\n",
    "    dice_avg.append(mean(dicio_cluster_validation[k]['dice']))\n",
    "    asymmetric_avg.append(mean(dicio_cluster_validation[k]['asymmetric']))\n",
    "    jaccard_cluster_std.append(stdev(dicio_cluster_validation[k]['jaccard']))\n",
    "    dice_std.append(stdev(dicio_cluster_validation[k]['dice']))\n",
    "    asymmetric_std.append(stdev(dicio_cluster_validation[k]['asymmetric']))\n",
    "\n",
    "table = [[str(1) + '(' + str(len(partition_original[0])) + ')', jaccard_cluster_avg[0], dice_avg[0], asymmetric_avg[0],\n",
    "          jaccard_cluster_std[0], dice_std[0], asymmetric_std[0]],\n",
    "        [str(2) + '(' + str(len(partition_original[1])) + ')', jaccard_cluster_avg[1], dice_avg[1], asymmetric_avg[1],\n",
    "          jaccard_cluster_std[1], dice_std[1], asymmetric_std[1]], \n",
    "        [str(3) + '(' + str(len(partition_original[2])) + ')', jaccard_cluster_avg[2], dice_avg[2], asymmetric_avg[2],\n",
    "          jaccard_cluster_std[2], dice_std[2], asymmetric_std[2]]]\n",
    "\n",
    "headers = ['Cluster Number', 'J_avg','D_avg','A_avg','J_std','D_std','A_std']\n",
    "print(tabulate(table,headers))"
   ]
  },
  {
   "cell_type": "markdown",
   "metadata": {},
   "source": [
    "### 3.3 Adjusted Wallace between cutoffs in the same dendrogram"
   ]
  },
  {
   "cell_type": "code",
   "execution_count": 11,
   "metadata": {
    "collapsed": false
   },
   "outputs": [
    {
     "data": {
      "image/png": "[encoded data removed]",
      "text/plain": [
       "<matplotlib.figure.Figure at 0x2a87da42eb8>"
      ]
     },
     "metadata": {},
     "output_type": "display_data"
    }
   ],
   "source": [
    "max_cutoff = round(Z[-1][2])\n",
    "cutoff_axis = []\n",
    "adjusted_wallace_axis = []\n",
    "adjusted_rand_axis = []\n",
    "\n",
    "#step between cutoff of 5\n",
    "for cutoff in range(5,int(max_cutoff+10),5):\n",
    "    c_assignments_original_a = fcluster(Z,cutoff,criterion='distance')\n",
    "    partition_original_a = cluster_indices(c_assignments_original_a,df.index.tolist())\n",
    "    c_assignments_original_b = fcluster(Z,cutoff-5,criterion='distance')\n",
    "    partition_original_b = cluster_indices(c_assignments_original_b,df.index.tolist())\n",
    "\n",
    "    computed_indexes = cluster_external_index(partition_original_a,partition_original_b)\n",
    "    #python function to compute adjusted_rand\n",
    "    adjusted_rand_axis.append(adjusted_rand_score(c_assignments_original_a,c_assignments_original_b))\n",
    "    cutoff_axis.append(cutoff)\n",
    "    adjusted_wallace_axis.append(computed_indexes[])\n",
    "\n",
    "plt.figure(3)\n",
    "plt.plot(cutoff_axis, adjusted_wallace_axis)\n",
    "#plot adjusted rand\n",
    "#plt.plot(cutoff_axis,adjusted_rand_axis)\n",
    "plt.show()\n"
   ]
  }
 ],
 "metadata": {
  "kernelspec": {
   "display_name": "Python 3",
   "language": "python",
   "name": "python3"
  },
  "language_info": {
   "codemirror_mode": {
    "name": "ipython",
    "version": 3
   },
   "file_extension": ".py",
   "mimetype": "text/x-python",
   "name": "python",
   "nbconvert_exporter": "python",
   "pygments_lexer": "ipython3",
   "version": "3.6.0"
  }
 },
 "nbformat": 4,
 "nbformat_minor": 2
}
